{
  "nbformat": 4,
  "nbformat_minor": 0,
  "metadata": {
    "colab": {
      "name": "cnn_test.ipynb",
      "version": "0.3.2",
      "provenance": [],
      "include_colab_link": true
    },
    "kernelspec": {
      "name": "python3",
      "display_name": "Python 3"
    }
  },
  "cells": [
    {
      "cell_type": "markdown",
      "metadata": {
        "id": "view-in-github",
        "colab_type": "text"
      },
      "source": [
        "<a href=\"https://colab.research.google.com/github/ooDoo6169/Python_Study/blob/master/cnn_test.ipynb\" target=\"_parent\"><img src=\"https://colab.research.google.com/assets/colab-badge.svg\" alt=\"Open In Colab\"/></a>"
      ]
    },
    {
      "metadata": {
        "id": "hWWVdYcriufN",
        "colab_type": "text"
      },
      "cell_type": "markdown",
      "source": [
        "# 1.  library import"
      ]
    },
    {
      "metadata": {
        "id": "BACGw7jTig1U",
        "colab_type": "code",
        "colab": {
          "base_uri": "https://localhost:8080/",
          "height": 34
        },
        "outputId": "4aeac6b2-8edb-4e6c-b614-002bb0401312"
      },
      "cell_type": "code",
      "source": [
        "# -*- coding: utf-8 -*-\n",
        "# 0. library setting\n",
        "import warnings\n",
        "warnings.simplefilter(action = 'ignore') # error가 아닌 warnning은 무시\n",
        "# data import\n",
        "import openpyxl as px\n",
        "\n",
        "# pandas & numpy\n",
        "import pandas as pd\n",
        "import numpy as np\n",
        "\n",
        "# vis\n",
        "import seaborn as sns\n",
        "import matplotlib.pyplot as plt # plot\n",
        "%matplotlib inline\n",
        "import plotly as py\n",
        "import plotly.graph_objs as go\n",
        "\n",
        "# sklearn\n",
        "from sklearn.model_selection import train_test_split\n",
        "from sklearn.feature_extraction.text import CountVectorizer\n",
        "from sklearn.feature_extraction.text import TfidfTransformer\n",
        "from sklearn.naive_bayes import MultinomialNB\n",
        "from sklearn.model_selection import cross_val_score\n",
        "from sklearn.model_selection import KFold\n",
        "from sklearn.preprocessing import LabelEncoder\n",
        "from sklearn.pipeline import Pipeline\n",
        "from sklearn.preprocessing import MinMaxScaler\n",
        "from sklearn.preprocessing import LabelEncoder\n",
        "\n",
        "# tensor\n",
        "import tensorflow as tf\n",
        "\n",
        "# keras\n",
        "from keras.models import Sequential\n",
        "from keras.layers import Dense\n",
        "from keras.wrappers.scikit_learn import KerasClassifier\n",
        "from keras.utils import np_utils\n",
        "from keras.models import Sequential, load_model\n",
        "from keras.layers.core import Dense, Dropout\n",
        "from keras.utils import np_utils # for using to_categorical\n",
        "from keras.layers import Flatten, Conv2D, MaxPooling2D, LSTM # CNN\n",
        "from keras.callbacks import ModelCheckpoint, EarlyStopping # EarlyStopping\n",
        "from keras.datasets import mnist, cifar10\n",
        "\n",
        "# tqdm\n",
        "from tqdm import trange, tqdm_notebook\n",
        "\n",
        "import requests \n",
        "import os\n",
        "\n",
        "# 재연성 \n",
        "seed = 0\n",
        "np.random.seed(seed)\n",
        "tf.set_random_seed(seed)"
      ],
      "execution_count": 3,
      "outputs": [
        {
          "output_type": "stream",
          "text": [
            "Using TensorFlow backend.\n"
          ],
          "name": "stderr"
        }
      ]
    },
    {
      "metadata": {
        "id": "gVYtZtaTx__k",
        "colab_type": "text"
      },
      "cell_type": "markdown",
      "source": [
        "# 2. data import"
      ]
    },
    {
      "metadata": {
        "id": "AESallIAyC0E",
        "colab_type": "code",
        "colab": {}
      },
      "cell_type": "code",
      "source": [
        "# from google.colab import files\n",
        "\n",
        "# uploaded = files.upload()\n",
        "\n",
        "# for fn in uploaded.keys():\n",
        "#   print('User uploaded file \"{name}\" with length {length} bytes'.format(\n",
        "#       name=fn, length=len(uploaded[fn])))\n",
        "  \n",
        "\n",
        "# from google.colab import drive\n",
        "# drive.mount('/content/gdrive')"
      ],
      "execution_count": 0,
      "outputs": []
    },
    {
      "metadata": {
        "id": "zDFki5dE6tnF",
        "colab_type": "text"
      },
      "cell_type": "markdown",
      "source": [
        "## 1) google drive 계정 연결"
      ]
    },
    {
      "metadata": {
        "id": "1hSi5pW81mA3",
        "colab_type": "code",
        "colab": {}
      },
      "cell_type": "code",
      "source": [
        "!pip install -U -q PyDrive\n",
        "\n",
        "\n",
        "from pydrive.auth import GoogleAuth\n",
        "\n",
        "from pydrive.drive import GoogleDrive\n",
        "\n",
        "from google.colab import auth\n",
        "\n",
        "from oauth2client.client import GoogleCredentials \n",
        "\n",
        "\n",
        "# 1. Authenticate and create the PyDrive client.\n",
        "\n",
        "auth.authenticate_user()\n",
        "\n",
        "gauth = GoogleAuth()\n",
        "\n",
        "gauth.credentials = GoogleCredentials.get_application_default()\n",
        "\n",
        "drive = GoogleDrive(gauth)\n"
      ],
      "execution_count": 0,
      "outputs": []
    },
    {
      "metadata": {
        "id": "Ko7Halz8615_",
        "colab_type": "text"
      },
      "cell_type": "markdown",
      "source": [
        "## 2) data load"
      ]
    },
    {
      "metadata": {
        "id": "AKeWr2lV65PJ",
        "colab_type": "code",
        "colab": {}
      },
      "cell_type": "code",
      "source": [
        "file_id = '1pahiBlTvw5SRyGwLD2_IJAm3GZUwxDKC' # file_id 는 Google Drive 에서 얻어낸 것\n",
        "\n",
        "downloaded = drive.CreateFile({'id': file_id})\n",
        "\n",
        "downloaded.GetContentFile('train_1_1.xlsx') # GetContentFile() 에 명시한 파일명으로 Colaboratory 에 저장"
      ],
      "execution_count": 0,
      "outputs": []
    },
    {
      "metadata": {
        "id": "k6CujYokVtFH",
        "colab_type": "text"
      },
      "cell_type": "markdown",
      "source": [
        "## 3) import data as dataframe"
      ]
    },
    {
      "metadata": {
        "id": "1phr9On4V-N5",
        "colab_type": "code",
        "colab": {
          "base_uri": "https://localhost:8080/",
          "height": 134
        },
        "outputId": "a410b81d-7187-4f83-f0a8-fb055ad12dda"
      },
      "cell_type": "code",
      "source": [
        "!ls -al # Colaboratory의 현재 폴더에 들어있는 파일들 확인"
      ],
      "execution_count": 7,
      "outputs": [
        {
          "output_type": "stream",
          "text": [
            "total 81868\n",
            "drwxr-xr-x 1 root root     4096 Feb  8 04:21 .\n",
            "drwxr-xr-x 1 root root     4096 Feb  8 04:20 ..\n",
            "-rw-r--r-- 1 root root     2660 Feb  8 04:21 adc.json\n",
            "drwxr-xr-x 1 root root     4096 Feb  8 04:21 .config\n",
            "drwxr-xr-x 1 root root     4096 Feb  6 17:31 sample_data\n",
            "-rw-r--r-- 1 root root 83801373 Feb  8 04:39 train_1_1.xlsx\n"
          ],
          "name": "stdout"
        }
      ]
    },
    {
      "metadata": {
        "id": "veV8zDLFnOlW",
        "colab_type": "code",
        "colab": {
          "base_uri": "https://localhost:8080/",
          "height": 34
        },
        "outputId": "f271af80-a737-4244-eb30-d80ca8f1d75f"
      },
      "cell_type": "code",
      "source": [
        "count = 2\n",
        "li=[]\n",
        "for i in range(1,count) :\n",
        "    W = px.load_workbook('train_1_'+str(i)+'.xlsx')\n",
        "    p = W['sheet1']\n",
        "\n",
        "    for row in p.values:\n",
        "        lrow = list(row)\n",
        "        li.append(lrow)\n",
        "    print(i)\n",
        "    "
      ],
      "execution_count": 8,
      "outputs": [
        {
          "output_type": "stream",
          "text": [
            "1\n"
          ],
          "name": "stdout"
        }
      ]
    },
    {
      "metadata": {
        "id": "AZzjithRXeuL",
        "colab_type": "text"
      },
      "cell_type": "markdown",
      "source": [
        "# 3. Feature Selection"
      ]
    },
    {
      "metadata": {
        "id": "aHozcPlpnPAb",
        "colab_type": "code",
        "colab": {
          "base_uri": "https://localhost:8080/",
          "height": 34
        },
        "outputId": "46d6db2f-85f7-4608-ba45-396f191829eb"
      },
      "cell_type": "code",
      "source": [
        "df = pd.DataFrame(np.array(li).reshape(\n",
        "len(li),12), columns = ['bcateid', 'brand', 'dcateid', 'image','maker', 'mcateid', 'model', 'pid', 'price', 'product', 'scateid', 'updttm'])\n",
        "len(df.index)"
      ],
      "execution_count": 9,
      "outputs": [
        {
          "output_type": "execute_result",
          "data": {
            "text/plain": [
              "10000"
            ]
          },
          "metadata": {
            "tags": []
          },
          "execution_count": 9
        }
      ]
    },
    {
      "metadata": {
        "id": "fifUhy_2nPDc",
        "colab_type": "code",
        "colab": {
          "base_uri": "https://localhost:8080/",
          "height": 195
        },
        "outputId": "23184081-be87-4479-b666-520c1dc4ded0"
      },
      "cell_type": "code",
      "source": [
        "# reorder the columns\n",
        "cols =  ['product','image','bcateid','mcateid','scateid']\n",
        "df = df.ix[:,cols]\n",
        "df.head()"
      ],
      "execution_count": 10,
      "outputs": [
        {
          "output_type": "execute_result",
          "data": {
            "text/html": [
              "<div>\n",
              "<style scoped>\n",
              "    .dataframe tbody tr th:only-of-type {\n",
              "        vertical-align: middle;\n",
              "    }\n",
              "\n",
              "    .dataframe tbody tr th {\n",
              "        vertical-align: top;\n",
              "    }\n",
              "\n",
              "    .dataframe thead th {\n",
              "        text-align: right;\n",
              "    }\n",
              "</style>\n",
              "<table border=\"1\" class=\"dataframe\">\n",
              "  <thead>\n",
              "    <tr style=\"text-align: right;\">\n",
              "      <th></th>\n",
              "      <th>product</th>\n",
              "      <th>image</th>\n",
              "      <th>bcateid</th>\n",
              "      <th>mcateid</th>\n",
              "      <th>scateid</th>\n",
              "    </tr>\n",
              "  </thead>\n",
              "  <tbody>\n",
              "    <tr>\n",
              "      <th>0</th>\n",
              "      <td>직소퍼즐 - 1000조각 바다거북의 여행 (PL1275)</td>\n",
              "      <td>0.75723773 0.8849334 0.0776659 0.26645592 0.37...</td>\n",
              "      <td>1</td>\n",
              "      <td>1</td>\n",
              "      <td>2</td>\n",
              "    </tr>\n",
              "    <tr>\n",
              "      <th>1</th>\n",
              "      <td>[모리케이스]아이폰6S/6S+ tree farm101 - 다이어리케이스[바보사랑][...</td>\n",
              "      <td>0.08962844 0.022527816 0.0 0.2439073 0.3126426...</td>\n",
              "      <td>3</td>\n",
              "      <td>3</td>\n",
              "      <td>4</td>\n",
              "    </tr>\n",
              "    <tr>\n",
              "      <th>2</th>\n",
              "      <td>크리비아 기모 3부 속바지 GLG4314P</td>\n",
              "      <td>1.0080119 2.61942 0.13982898 1.0908707 0.15845...</td>\n",
              "      <td>5</td>\n",
              "      <td>5</td>\n",
              "      <td>6</td>\n",
              "    </tr>\n",
              "    <tr>\n",
              "      <th>3</th>\n",
              "      <td>[하프클럽/잭앤질]남성 솔리드 절개라인 포인트 포켓 팬츠 31133PT002_NA</td>\n",
              "      <td>0.0980237 0.052997973 0.04391024 2.1106048 0.4...</td>\n",
              "      <td>7</td>\n",
              "      <td>7</td>\n",
              "      <td>8</td>\n",
              "    </tr>\n",
              "    <tr>\n",
              "      <th>4</th>\n",
              "      <td>코드프리혈당시험지50매/코드프리시험지/최장유효기간</td>\n",
              "      <td>0.18871741 0.07393849 0.0 0.0 0.023571586 0.01...</td>\n",
              "      <td>10</td>\n",
              "      <td>9</td>\n",
              "      <td>11</td>\n",
              "    </tr>\n",
              "  </tbody>\n",
              "</table>\n",
              "</div>"
            ],
            "text/plain": [
              "                                             product  \\\n",
              "0                    직소퍼즐 - 1000조각 바다거북의 여행 (PL1275)   \n",
              "1  [모리케이스]아이폰6S/6S+ tree farm101 - 다이어리케이스[바보사랑][...   \n",
              "2                            크리비아 기모 3부 속바지 GLG4314P   \n",
              "3      [하프클럽/잭앤질]남성 솔리드 절개라인 포인트 포켓 팬츠 31133PT002_NA   \n",
              "4                        코드프리혈당시험지50매/코드프리시험지/최장유효기간   \n",
              "\n",
              "                                               image bcateid mcateid scateid  \n",
              "0  0.75723773 0.8849334 0.0776659 0.26645592 0.37...       1       1       2  \n",
              "1  0.08962844 0.022527816 0.0 0.2439073 0.3126426...       3       3       4  \n",
              "2  1.0080119 2.61942 0.13982898 1.0908707 0.15845...       5       5       6  \n",
              "3  0.0980237 0.052997973 0.04391024 2.1106048 0.4...       7       7       8  \n",
              "4  0.18871741 0.07393849 0.0 0.0 0.023571586 0.01...      10       9      11  "
            ]
          },
          "metadata": {
            "tags": []
          },
          "execution_count": 10
        }
      ]
    },
    {
      "metadata": {
        "id": "6PoiV4khXlEi",
        "colab_type": "text"
      },
      "cell_type": "markdown",
      "source": [
        "# 4. Data split"
      ]
    },
    {
      "metadata": {
        "id": "ghaDTfJTkcFi",
        "colab_type": "code",
        "colab": {
          "base_uri": "https://localhost:8080/",
          "height": 34
        },
        "outputId": "c48a51e0-eb45-419b-a457-c518a2454013"
      },
      "cell_type": "code",
      "source": [
        "# change str to list\n",
        "image_list = [df['image'][0].split(' ')]\n",
        "for i in range(1,len(df)) :\n",
        "    image_list += [df['image'][i].split(' ')]\n",
        "len(image_list)"
      ],
      "execution_count": 11,
      "outputs": [
        {
          "output_type": "execute_result",
          "data": {
            "text/plain": [
              "10000"
            ]
          },
          "metadata": {
            "tags": []
          },
          "execution_count": 11
        }
      ]
    },
    {
      "metadata": {
        "id": "VtcqBRKMii1h",
        "colab_type": "code",
        "colab": {}
      },
      "cell_type": "code",
      "source": [
        "# data split\n",
        "X_train, X_test, y_train, y_test = train_test_split(image_list, df[['bcateid', 'mcateid','scateid']], random_state = 0)"
      ],
      "execution_count": 0,
      "outputs": []
    },
    {
      "metadata": {
        "id": "oo6qx_l0Yf8j",
        "colab_type": "code",
        "colab": {
          "base_uri": "https://localhost:8080/",
          "height": 34
        },
        "outputId": "cde0453d-e1d7-4d8a-8619-7411f7974119"
      },
      "cell_type": "code",
      "source": [
        "X_train[0][0]"
      ],
      "execution_count": 13,
      "outputs": [
        {
          "output_type": "execute_result",
          "data": {
            "text/plain": [
              "'0.021697935'"
            ]
          },
          "metadata": {
            "tags": []
          },
          "execution_count": 13
        }
      ]
    },
    {
      "metadata": {
        "id": "3ZSM39FKXwue",
        "colab_type": "text"
      },
      "cell_type": "markdown",
      "source": [
        "# 5. modeling"
      ]
    },
    {
      "metadata": {
        "id": "bSGvg3NRii-P",
        "colab_type": "code",
        "colab": {
          "base_uri": "https://localhost:8080/",
          "height": 87
        },
        "outputId": "a743ca56-148c-4134-e8cd-bd2451d0eb84"
      },
      "cell_type": "code",
      "source": [
        "# layer\n",
        "model = Sequential()\n",
        "model.add(Dense(2048, activation='relu'))# fully connected\n",
        "model.add(Dropout(0.5))\n",
        "model.add(Dense(len(set(df['bcateid'])), activation='softmax')) # final output layer\n",
        "\n",
        "# compile\n",
        "model.compile(loss = 'categorical_crossentropy',\n",
        "              optimizer = 'adam',\n",
        "              metrics = ['accuracy'])\n",
        "\n",
        "# model run\n",
        "hist = model.fit(X_train, y_train['bcateid'],\n",
        "                 validation_data = (X_test, y_test['bcateid']),\n",
        "                 epochs =15,\n",
        "#                  epochs =30,\n",
        "                 batch_size = 200)"
      ],
      "execution_count": 0,
      "outputs": [
        {
          "output_type": "stream",
          "text": [
            "WARNING:tensorflow:From /usr/local/lib/python3.6/dist-packages/tensorflow/python/framework/op_def_library.py:263: colocate_with (from tensorflow.python.framework.ops) is deprecated and will be removed in a future version.\n",
            "Instructions for updating:\n",
            "Colocations handled automatically by placer.\n"
          ],
          "name": "stdout"
        }
      ]
    },
    {
      "metadata": {
        "id": "Nk5UUnImXv3l",
        "colab_type": "text"
      },
      "cell_type": "markdown",
      "source": [
        ""
      ]
    }
  ]
}